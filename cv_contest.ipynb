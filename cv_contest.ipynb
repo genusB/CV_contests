{
  "cells": [
    {
      "cell_type": "code",
      "execution_count": null,
      "metadata": {
        "id": "nc8nq-DjYIM3"
      },
      "outputs": [],
      "source": [
        "!mkdir ~/.kaggle\n",
        "!touch ~/.kaggle/kaggle.json\n",
        "\n",
        "\n",
        "api_token = {\"username\":\"\",\"key\":\"\"}\n",
        "\n",
        "import json\n",
        "\n",
        "with open('/root/.kaggle/kaggle.json', 'w') as file:\n",
        "    json.dump(api_token, file)\n",
        "\n",
        "!chmod 600 ~/.kaggle/kaggle.json"
      ]
    },
    {
      "cell_type": "code",
      "execution_count": null,
      "metadata": {
        "id": "qllufV-zWfI0"
      },
      "outputs": [],
      "source": [
        "! kaggle competitions download -c vk-made-sports-image-classification"
      ]
    },
    {
      "cell_type": "code",
      "execution_count": null,
      "metadata": {
        "id": "Sae-ShWXZCHA"
      },
      "outputs": [],
      "source": [
        "! mkdir data"
      ]
    },
    {
      "cell_type": "code",
      "execution_count": null,
      "metadata": {
        "id": "AdLNJztQWfz4"
      },
      "outputs": [],
      "source": [
        "! unzip vk-made-sports-image-classification.zip -d data"
      ]
    },
    {
      "cell_type": "code",
      "execution_count": null,
      "metadata": {
        "id": "3GPlvKi9b8KZ"
      },
      "outputs": [],
      "source": [
        "! pip install -q transformers datasets"
      ]
    },
    {
      "cell_type": "code",
      "execution_count": null,
      "metadata": {
        "id": "RqC08jqEZEyO"
      },
      "outputs": [],
      "source": [
        "import tqdm\n",
        "import numpy as np\n",
        "import matplotlib.pyplot as plt\n",
        "import pandas as pd\n",
        "\n",
        "from PIL import Image\n",
        "\n",
        "import time\n",
        "\n",
        "import torch\n",
        "from torch import nn\n",
        "# from torch.utils.data import Dataset\n",
        "from sklearn.model_selection import train_test_split\n",
        "from torch.utils.data import DataLoader\n",
        "from torchvision.transforms import (ToTensor, Normalize, Compose, Resize, CenterCrop,\n",
        "    RandomResizedCrop, RandomRotation, RandomHorizontalFlip, RandomAutocontrast, ToPILImage)\n",
        "from torchvision import models\n",
        "from torchvision.io import read_image, ImageReadMode\n",
        "from torch.optim import Adam\n",
        "from torchvision.transforms import Resize\n",
        "from torch.nn.functional import cross_entropy, relu\n",
        "from sklearn import preprocessing\n",
        "import os\n",
        "\n",
        "from datasets import load_dataset, Image, Dataset"
      ]
    },
    {
      "cell_type": "code",
      "execution_count": null,
      "metadata": {
        "id": "hDDZnPWbdY-s"
      },
      "outputs": [],
      "source": [
        "data_path = 'data/'"
      ]
    },
    {
      "cell_type": "code",
      "execution_count": null,
      "metadata": {
        "id": "C05GAQkZc7gB"
      },
      "outputs": [],
      "source": [
        "df_train = pd.read_csv(data_path + 'train.csv')\n",
        "df_test = pd.read_csv(data_path + 'test.csv')"
      ]
    },
    {
      "cell_type": "code",
      "execution_count": null,
      "metadata": {
        "id": "2E3I5Mq_dg1U"
      },
      "outputs": [],
      "source": [
        "train = df_train.sample(frac = 0.8)\n",
        "val = df_train.drop(train.index)"
      ]
    },
    {
      "cell_type": "code",
      "execution_count": null,
      "metadata": {
        "id": "wh-DODOmb5FZ"
      },
      "outputs": [],
      "source": [
        "dataset_train = Dataset.from_dict(\n",
        "    {\"image\": ['data/train/' + image_id for image_id in list(train.image_id)], \n",
        "     \"label\": train.label}).cast_column(\"image\", Image()).class_encode_column(\"label\")\n",
        "\n",
        "dataset_val = Dataset.from_dict(\n",
        "    {\"image\": ['data/train/' + image_id for image_id in list(val.image_id)], \n",
        "     \"label\": val.label}).cast_column(\"image\", Image()).class_encode_column(\"label\")\n",
        "\n",
        "dataset_test = Dataset.from_dict(\n",
        "    {\"image\": ['data/test/' + image_id for image_id in list(df_test.image_id)]}).cast_column(\"image\", Image())\n"
      ]
    },
    {
      "cell_type": "code",
      "execution_count": null,
      "metadata": {
        "id": "n9kw59u7lZjK"
      },
      "outputs": [],
      "source": [
        "id2label = {id:label for id, label in enumerate(dataset_train.features['label'].names)}\n",
        "label2id = {label:id for id,label in id2label.items()}"
      ]
    },
    {
      "cell_type": "code",
      "execution_count": null,
      "metadata": {
        "id": "1UlJ5HVQiz-7"
      },
      "outputs": [],
      "source": [
        "from transformers import ViTImageProcessor\n",
        "\n",
        "processor = ViTImageProcessor.from_pretrained(\"google/vit-base-patch16-224-in21k\")"
      ]
    },
    {
      "cell_type": "code",
      "execution_count": null,
      "metadata": {
        "id": "zn43SIZGjKAe"
      },
      "outputs": [],
      "source": [
        "from torchvision.transforms import (CenterCrop, \n",
        "                                    Compose, \n",
        "                                    Normalize, \n",
        "                                    RandomHorizontalFlip,\n",
        "                                    RandomResizedCrop, \n",
        "                                    Resize, \n",
        "                                    ToTensor)\n",
        "\n",
        "image_mean, image_std = processor.image_mean, processor.image_std\n",
        "size = processor.size[\"height\"]\n",
        "\n",
        "normalize = Normalize(mean=image_mean, std=image_std)\n",
        "_train_transforms = Compose(\n",
        "        [\n",
        "            RandomResizedCrop(size),\n",
        "            RandomHorizontalFlip(),\n",
        "            ToTensor(),\n",
        "            normalize,\n",
        "        ]\n",
        "    )\n",
        "\n",
        "_val_transforms = Compose(\n",
        "        [\n",
        "            Resize(size),\n",
        "            CenterCrop(size),\n",
        "            ToTensor(),\n",
        "            normalize,\n",
        "        ]\n",
        "    )\n",
        "\n",
        "def train_transforms(examples):\n",
        "    examples['pixel_values'] = [_train_transforms(image.convert(\"RGB\")) for image in examples['image']]\n",
        "    return examples\n",
        "\n",
        "def val_transforms(examples):\n",
        "    examples['pixel_values'] = [_val_transforms(image.convert(\"RGB\")) for image in examples['image']]\n",
        "    return examples"
      ]
    },
    {
      "cell_type": "code",
      "execution_count": null,
      "metadata": {
        "id": "8YoczVzdk4eI"
      },
      "outputs": [],
      "source": [
        "dataset_train.set_transform(train_transforms)\n",
        "dataset_val.set_transform(val_transforms)\n",
        "dataset_test.set_transform(val_transforms)"
      ]
    },
    {
      "cell_type": "code",
      "execution_count": null,
      "metadata": {
        "id": "MUW3mHoFmMzR"
      },
      "outputs": [],
      "source": [
        "from torch.utils.data import DataLoader\n",
        "import torch\n",
        "\n",
        "def collate_fn(examples):\n",
        "    pixel_values = torch.stack([example[\"pixel_values\"] for example in examples])\n",
        "    labels = torch.tensor([example[\"label\"] for example in examples])\n",
        "    return {\"pixel_values\": pixel_values, \"labels\": labels}\n",
        "\n",
        "train_dataloader = DataLoader(dataset_train, collate_fn=collate_fn, batch_size=4)"
      ]
    },
    {
      "cell_type": "code",
      "execution_count": null,
      "metadata": {
        "id": "2I1zImT96fsz"
      },
      "outputs": [],
      "source": [
        "batch = next(iter(train_dataloader))\n",
        "for k,v in batch.items():\n",
        "  if isinstance(v, torch.Tensor):\n",
        "    print(k, v.shape)"
      ]
    },
    {
      "cell_type": "code",
      "execution_count": null,
      "metadata": {
        "id": "wbdR2IzPoHl0"
      },
      "outputs": [],
      "source": [
        "from transformers import ViTForImageClassification\n",
        "\n",
        "model = ViTForImageClassification.from_pretrained('google/vit-base-patch16-224-in21k',\n",
        "                                                  id2label=id2label,\n",
        "                                                  label2id=label2id)"
      ]
    },
    {
      "cell_type": "code",
      "execution_count": null,
      "metadata": {
        "id": "DxHZIO_-o_5o"
      },
      "outputs": [],
      "source": [
        "from transformers import TrainingArguments, Trainer\n",
        "\n",
        "metric_name = \"f1\"\n",
        "\n",
        "args = TrainingArguments(\n",
        "    output_dir='results',\n",
        "    save_strategy=\"epoch\",\n",
        "    evaluation_strategy=\"epoch\",\n",
        "    learning_rate=2e-5,\n",
        "    per_device_train_batch_size=16,\n",
        "    per_device_eval_batch_size=4,\n",
        "    num_train_epochs=5,\n",
        "    weight_decay=0.01,\n",
        "    load_best_model_at_end=True,\n",
        "    metric_for_best_model=metric_name,\n",
        "    logging_dir='logs',\n",
        "    remove_unused_columns=False,\n",
        ")"
      ]
    },
    {
      "cell_type": "code",
      "execution_count": null,
      "metadata": {
        "id": "07DyYvXLqClA"
      },
      "outputs": [],
      "source": [
        "from sklearn.metrics import f1_score\n",
        "import numpy as np\n",
        "\n",
        "def compute_metrics(eval_pred):\n",
        "    predictions, labels = eval_pred\n",
        "    predictions = np.argmax(predictions, axis=1)\n",
        "    return dict(f1=f1_score(predictions, labels, average='micro'))"
      ]
    },
    {
      "cell_type": "code",
      "execution_count": null,
      "metadata": {
        "id": "x5CNg1giqRS7"
      },
      "outputs": [],
      "source": [
        "import torch\n",
        "\n",
        "trainer = Trainer(\n",
        "    model,\n",
        "    args,\n",
        "    train_dataset=dataset_train,\n",
        "    eval_dataset=dataset_val,\n",
        "    data_collator=collate_fn,\n",
        "    compute_metrics=compute_metrics,\n",
        "    tokenizer=processor,\n",
        ")"
      ]
    },
    {
      "cell_type": "code",
      "execution_count": null,
      "metadata": {
        "id": "-piTQMAdqZyc"
      },
      "outputs": [],
      "source": [
        "%load_ext tensorboard\n",
        "%tensorboard --logdir logs/"
      ]
    },
    {
      "cell_type": "code",
      "execution_count": null,
      "metadata": {
        "id": "9rDJBzKiqaZ4"
      },
      "outputs": [],
      "source": [
        "trainer.train()"
      ]
    },
    {
      "cell_type": "code",
      "execution_count": null,
      "metadata": {
        "id": "jS0nir-Nqj4L"
      },
      "outputs": [],
      "source": []
    }
  ],
  "metadata": {
    "colab": {
      "provenance": []
    },
    "kernelspec": {
      "display_name": "Python 3",
      "name": "python3"
    },
    "language_info": {
      "name": "python"
    }
  },
  "nbformat": 4,
  "nbformat_minor": 0
}
